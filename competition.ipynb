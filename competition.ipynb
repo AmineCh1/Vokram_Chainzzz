{
 "cells": [
  {
   "cell_type": "code",
   "execution_count": null,
   "metadata": {
    "collapsed": true
   },
   "outputs": [],
   "source": [
    "import numpy as np\n",
    "import pandas as pd\n",
    "from SimulatedAnnealingbis import SimulatedAnnealing as Sim_an2\n",
    "from SimulatedAnnealingtris import SimulatedAnnealing as Sim_an3\n",
    "\n",
    "lmbd = 0.5\n",
    "\n",
    "iterations = 500\n",
    "cycles = 5\n",
    "alpha = 0.75\n",
    "\n",
    "version = 3"
   ]
  },
  {
   "cell_type": "code",
   "execution_count": null,
   "outputs": [],
   "source": [
    "from ortools.constraint_solver import pywrapcp\n",
    "from ortools.constraint_solver import routing_enums_pb2\n",
    "\n",
    "def create_data_model(dataset):\n",
    "    \"\"\"Stores the data for the problem.\"\"\"\n",
    "    cities = dataset.x\n",
    "    dist =  np.zeros((dataset.N, dataset.N))\n",
    "    radius = np.inf\n",
    "    center = None\n",
    "    min_dist = np.inf\n",
    "    min_i = None\n",
    "    min_j = None\n",
    "    max_dist = 0\n",
    "    max_i = None\n",
    "    max_j = None\n",
    "    for i in range(dataset.N):\n",
    "      r = np.linalg.norm(cities[i] - [0.5, 0.5])  # or most populous\n",
    "      if r < radius:\n",
    "        radius = r\n",
    "        center = i\n",
    "      for j in range(dataset.N):\n",
    "        dist[i, j] = np.linalg.norm(cities[i] - cities[j])\n",
    "        if dist[i, j] < min_dist and dist[i, j] != 0:\n",
    "          min_dist = dist[i, j]\n",
    "          min_i = i\n",
    "          min_j = j\n",
    "        if dist[i, j] > max_dist:\n",
    "          max_dist = dist[i, j]\n",
    "          max_i = i\n",
    "          max_j = j\n",
    "    print(cities[center])\n",
    "\n",
    "    data = {}\n",
    "    data['distance_matrix'] = np.round(dist / min_dist)\n",
    "    data['num_vehicles'] = 1\n",
    "    data['depot'] = center\n",
    "    data['min_dist'] = min_dist\n",
    "    data['min_i'] = min_i\n",
    "    data['min_j'] = min_j\n",
    "    data['max_dist'] = max_dist\n",
    "    data['max_i'] = max_i\n",
    "    data['max_j'] = max_j\n",
    "    return data\n",
    "\n",
    "def distance_callback(from_index, to_index):\n",
    "    \"\"\"Returns the distance between the two nodes.\"\"\"\n",
    "    # Convert from routing variable Index to distance matrix NodeIndex.\n",
    "    from_node = manager.IndexToNode(from_index)\n",
    "    to_node = manager.IndexToNode(to_index)\n",
    "    return data['distance_matrix'][from_node][to_node]\n",
    "\n",
    "def get_routes(solution, routing, manager):\n",
    "  \"\"\"Get vehicle routes from a solution and store them in an array.\"\"\"\n",
    "  # Get vehicle routes and store them in a two dimensional array whose\n",
    "  # i,j entry is the jth location visited by vehicle i along its route.\n",
    "  routes = []\n",
    "  for route_nbr in range(routing.vehicles()):\n",
    "    index = routing.Start(route_nbr)\n",
    "    route = [manager.IndexToNode(index)]\n",
    "    while not routing.IsEnd(index):\n",
    "      index = solution.Value(routing.NextVar(index))\n",
    "      route.append(manager.IndexToNode(index))\n",
    "    routes.append(route)\n",
    "  return routes\n",
    "\n",
    "def print_solution(manager, routing, solution):\n",
    "    \"\"\"Prints solution on console.\"\"\"\n",
    "    print('Objective: {}'.format(solution.ObjectiveValue() * data['min_dist']))\n",
    "    index = routing.Start(0)\n",
    "    plan_output = 'Route for vehicle 0:\\n'\n",
    "    route_distance = 0\n",
    "    while not routing.IsEnd(index):\n",
    "        plan_output += ' {} ->'.format(manager.IndexToNode(index))\n",
    "        previous_index = index\n",
    "        index = solution.Value(routing.NextVar(index))\n",
    "        route_distance += routing.GetArcCostForVehicle(previous_index, index, 0)\n",
    "    plan_output += ' {}\\n'.format(manager.IndexToNode(index))\n",
    "    print(plan_output)\n",
    "    plan_output += 'Route distance: {}miles\\n'.format(route_distance)"
   ],
   "metadata": {
    "collapsed": false,
    "pycharm": {
     "name": "#%%\n"
    }
   }
  },
  {
   "cell_type": "code",
   "execution_count": null,
   "outputs": [],
   "source": [
    "class Dataset(object):\n",
    "    def __init__(self, N: int, x: np.ndarray, v: np.ndarray):\n",
    "        self.N = N\n",
    "        self.x = x\n",
    "        self.v = v\n",
    "\n",
    "def load_csv(path: str) -> Dataset:\n",
    "    file = pd.read_csv(path)\n",
    "    file = file.set_index('city id').sort_index()\n",
    "    return Dataset(len(file), file.loc[['position x','position y']].to_numpy(), file.loc['normalized population'].to_numpy())\n",
    "\n",
    "def write_csv(path: str, simulated_annealing) -> None:\n",
    "    sol = pd.DataFrame(columns=['city id', 'bool'])\n",
    "    for i, assignment in enumerate(simulated_annealing.best_S._assignments):\n",
    "        sol = sol.append([i+1, assignment])\n",
    "    sol.to_csv(path, header = False)"
   ],
   "metadata": {
    "collapsed": false,
    "pycharm": {
     "name": "#%%\n"
    }
   }
  },
  {
   "cell_type": "code",
   "execution_count": null,
   "outputs": [],
   "source": [
    "g_competition = load_csv(\"test.csv\")\n",
    "print(g_competition.N)\n",
    "print(g_competition.x)\n",
    "print(g_competition.v)"
   ],
   "metadata": {
    "collapsed": false,
    "pycharm": {
     "name": "#%%\n"
    }
   }
  },
  {
   "cell_type": "code",
   "execution_count": null,
   "outputs": [],
   "source": [
    "if version == 2:\n",
    "    SA = Sim_an2(lmbd, g_competition, alpha=alpha)\n",
    "    SA.heat_cool_cycles(iterations, cycles)\n",
    "elif version == 3:\n",
    "    # Instantiate the data problem.\n",
    "    data = create_data_model(g_competition)\n",
    "\n",
    "    # Create the routing index manager.\n",
    "    manager = pywrapcp.RoutingIndexManager(len(data['distance_matrix']), data['num_vehicles'], [data['min_i']], [data['min_j']])\n",
    "\n",
    "    # Create Routing Model.\n",
    "    routing = pywrapcp.RoutingModel(manager)\n",
    "\n",
    "    transit_callback_index = routing.RegisterTransitCallback(distance_callback)\n",
    "\n",
    "    # Define cost of each arc.\n",
    "    routing.SetArcCostEvaluatorOfAllVehicles(transit_callback_index)\n",
    "\n",
    "    # Setting first solution heuristic.\n",
    "    search_parameters = pywrapcp.DefaultRoutingSearchParameters()\n",
    "    search_parameters.first_solution_strategy = routing_enums_pb2.FirstSolutionStrategy.PATH_CHEAPEST_ARC\n",
    "\n",
    "    # Solve the problem.\n",
    "    solution = routing.SolveWithParameters(search_parameters)\n",
    "\n",
    "    SA = Sim_an3(lmbd, g_competition, alpha=alpha, order=get_routes(solution, routing, manager)[0])\n",
    "    SA.heat_cool_cycles(iterations, cycles)"
   ],
   "metadata": {
    "collapsed": false,
    "pycharm": {
     "name": "#%%\n"
    }
   }
  }
 ],
 "metadata": {
  "kernelspec": {
   "display_name": "Python 3",
   "language": "python",
   "name": "python3"
  },
  "language_info": {
   "codemirror_mode": {
    "name": "ipython",
    "version": 2
   },
   "file_extension": ".py",
   "mimetype": "text/x-python",
   "name": "python",
   "nbconvert_exporter": "python",
   "pygments_lexer": "ipython2",
   "version": "2.7.6"
  }
 },
 "nbformat": 4,
 "nbformat_minor": 0
}