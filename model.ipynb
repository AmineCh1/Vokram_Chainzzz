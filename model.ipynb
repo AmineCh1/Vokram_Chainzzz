{
 "cells": [
  {
   "cell_type": "markdown",
   "metadata": {
    "colab_type": "text",
    "id": "view-in-github"
   },
   "source": [
    "<a href=\"https://colab.research.google.com/github/antoinexp/markov-chains-COM-516/blob/main/model.ipynb\" target=\"_parent\"><img src=\"https://colab.research.google.com/assets/colab-badge.svg\" alt=\"Open In Colab\"/></a>"
   ]
  },
  {
   "cell_type": "markdown",
   "metadata": {
    "id": "mCc-m9oEkOGy"
   },
   "source": [
    "This notebook is provided as a starting point to help you generate random instances G1 and G2 as mentioned in the handout.\n",
    "\n",
    "You are free to use and modify it at your own convenience.\n",
    "\n",
    "---\n",
    "\n"
   ]
  },
  {
   "cell_type": "code",
   "execution_count": null,
   "metadata": {
    "id": "BMV_GyHTe-A5"
   },
   "outputs": [],
   "source": [
    "import scipy.stats as st\n",
    "import numpy as np\n",
    "import scipy as sp\n",
    "import matplotlib.pyplot as plt\n",
    "import seaborn as sns\n",
    "from ortools.constraint_solver import pywrapcp\n",
    "from ortools.constraint_solver import routing_enums_pb2\n",
    "from time import time\n",
    "import pandas as pd"
   ]
  },
  {
   "cell_type": "code",
   "execution_count": null,
   "metadata": {
    "id": "9_4LNOEAfb6H"
   },
   "outputs": [],
   "source": [
    "class DatasetGenerator(object):\n",
    "    def __init__(self, N=100):\n",
    "        self.N = N\n",
    "        self.x = None\n",
    "        self.v = None\n",
    "        self.refresh()\n",
    "\n",
    "    def refresh(self):\n",
    "        raise Exception(\"undefined\")"
   ]
  },
  {
   "cell_type": "code",
   "execution_count": null,
   "metadata": {
    "id": "69EQnzkcgxtb"
   },
   "outputs": [],
   "source": [
    "class G1(DatasetGenerator):\n",
    "    def refresh(self):\n",
    "        self.x = st.uniform().rvs((self.N,2))\n",
    "        self.v = st.uniform().rvs((self.N,))"
   ]
  },
  {
   "cell_type": "code",
   "execution_count": null,
   "metadata": {
    "id": "NEPDqCflgzWe"
   },
   "outputs": [],
   "source": [
    "class G2(DatasetGenerator):\n",
    "    def refresh(self):\n",
    "        self.x = st.uniform().rvs((self.N,2))\n",
    "        self.v = np.exp(st.norm(-0.85, 1.3).rvs((self.N,)))"
   ]
  },
  {
   "cell_type": "markdown",
   "metadata": {
    "id": "q_Kco86_fDPA"
   },
   "source": [
    "### Uniform distribution ($\\mathcal U([0,1])$)"
   ]
  },
  {
   "cell_type": "code",
   "execution_count": null,
   "metadata": {
    "id": "gZmvCOWse-93"
   },
   "outputs": [],
   "source": [
    "g1 = G1(100)"
   ]
  },
  {
   "cell_type": "markdown",
   "metadata": {
    "id": "mQbhQdsEif96"
   },
   "source": [
    "Examples:"
   ]
  },
  {
   "cell_type": "code",
   "execution_count": null,
   "metadata": {
    "colab": {
     "base_uri": "https://localhost:8080/",
     "height": 265
    },
    "id": "zXOZp0KUiO5P",
    "outputId": "6447f237-cd07-4c8f-84c8-a5af51e03698"
   },
   "outputs": [],
   "source": [
    "# Plot a histogram of the v array\n",
    "plt.hist(g1.v, bins=30)\n",
    "plt.show()\n",
    "type(g1.v)"
   ]
  },
  {
   "cell_type": "code",
   "execution_count": null,
   "metadata": {
    "colab": {
     "base_uri": "https://localhost:8080/",
     "height": 320
    },
    "id": "GMHuTtiIii5H",
    "outputId": "f5ff204f-7e45-4f3b-ed0c-5e18cb4a5e52"
   },
   "outputs": [],
   "source": [
    "# plot the position of the points\n",
    "# plt.figure(figsize=(5,5))\n",
    "sns.scatterplot(g1.x[:,0], g1.x[:,1], hue=g1.v)\n",
    "plt.show()"
   ]
  },
  {
   "cell_type": "markdown",
   "metadata": {
    "id": "CCmeQMcZiuGX"
   },
   "source": [
    "You can refresh the dataset"
   ]
  },
  {
   "cell_type": "code",
   "execution_count": null,
   "metadata": {
    "id": "X5zibI5Rix7r"
   },
   "outputs": [],
   "source": [
    "g1.refresh() # generate a new dataset"
   ]
  },
  {
   "cell_type": "code",
   "execution_count": null,
   "metadata": {
    "colab": {
     "base_uri": "https://localhost:8080/",
     "height": 265
    },
    "id": "jwCwLEgEixrE",
    "outputId": "8b0be7af-9771-417c-d22f-9ae719404ee6"
   },
   "outputs": [],
   "source": [
    "plt.hist(g1.v, bins=30)\n",
    "plt.show()"
   ]
  },
  {
   "cell_type": "markdown",
   "metadata": {
    "id": "Ka6haqFplqaU"
   },
   "source": [
    "Or for instance, you can generate 10 instances and compute the average position of all the points:"
   ]
  },
  {
   "cell_type": "code",
   "execution_count": null,
   "metadata": {
    "colab": {
     "base_uri": "https://localhost:8080/"
    },
    "id": "ZB9knwmOlvVP",
    "outputId": "28aecbc3-d2d8-4126-b104-6b12238d8974"
   },
   "outputs": [],
   "source": [
    "m = np.array([0., 0.])\n",
    "\n",
    "for _ in range(10):\n",
    "  g1.refresh() # refresh the dataset\n",
    "  m  += 0.1*g1.x.mean()\n",
    "\n",
    "print(m)"
   ]
  },
  {
   "cell_type": "markdown",
   "metadata": {
    "id": "JgzoeYOafZSM"
   },
   "source": [
    "### Test on log-normal distribution"
   ]
  },
  {
   "cell_type": "code",
   "execution_count": null,
   "metadata": {
    "id": "nszpfgZkfROG"
   },
   "outputs": [],
   "source": [
    "g2 = G2()"
   ]
  },
  {
   "cell_type": "markdown",
   "metadata": {
    "id": "k-CfVPQpjRu9"
   },
   "source": [
    "Example:\n",
    "\n",
    "you can use g2 to generate an instance of the lognormal distribution"
   ]
  },
  {
   "cell_type": "code",
   "execution_count": null,
   "metadata": {
    "colab": {
     "base_uri": "https://localhost:8080/",
     "height": 265
    },
    "id": "brEhSUl2i6LC",
    "outputId": "43a129cd-78db-4bef-9980-21758dd8b9b8"
   },
   "outputs": [],
   "source": [
    "plt.hist(g2.v, bins=30)\n",
    "plt.show()"
   ]
  },
  {
   "cell_type": "code",
   "execution_count": null,
   "metadata": {
    "collapsed": false,
    "jupyter": {
     "outputs_hidden": false
    },
    "pycharm": {
     "name": "#%%\n"
    }
   },
   "outputs": [],
   "source": [
    "# plot the position of the points\n",
    "# plt.figure(figsize=(5,5))\n",
    "sns.scatterplot(g2.x[:,0], g2.x[:,1], hue=g2.v)\n",
    "plt.show()"
   ]
  },
  {
   "cell_type": "code",
   "execution_count": null,
   "metadata": {
    "id": "QQ5rVZDxjXKA"
   },
   "outputs": [],
   "source": [
    "g2.refresh() # to generate a new x and v"
   ]
  },
  {
   "cell_type": "code",
   "execution_count": null,
   "metadata": {
    "colab": {
     "base_uri": "https://localhost:8080/",
     "height": 265
    },
    "id": "F44feKJokJS2",
    "outputId": "499c5cd5-d2cf-4871-f608-54212dbcb122"
   },
   "outputs": [],
   "source": [
    "plt.hist(g2.v, bins=30)\n",
    "plt.show()"
   ]
  },
  {
   "cell_type": "markdown",
   "metadata": {
    "id": "UrAwB81ykRCM"
   },
   "source": [
    "---"
   ]
  },
  {
   "cell_type": "markdown",
   "metadata": {
    "id": "GeH_E-MGjHvd"
   },
   "source": [
    "### Metropolis Hastings"
   ]
  },
  {
   "cell_type": "code",
   "execution_count": null,
   "metadata": {
    "id": "sbZXvBgti6_C"
   },
   "outputs": [],
   "source": [
    "# fill-in this section with your code\n",
    "\n",
    "from SimulatedAnnealingtris import SimulatedAnnealing as Sim_an3\n",
    "from SimulatedAnnealing import SimulatedAnnealing as Sim_an1\n",
    "from SimulatedAnnealingbis import SimulatedAnnealing as Sim_an2"
   ]
  },
  {
   "cell_type": "code",
   "execution_count": null,
   "metadata": {},
   "outputs": [],
   "source": [
    "iterations = 3000\n",
    "cycles = 10\n",
    "lambda_ = 1\n",
    "dataset = g1\n",
    "print(g1.x.shape)"
   ]
  },
  {
   "cell_type": "code",
   "execution_count": null,
   "outputs": [],
   "source": [
    "def create_data_model(dataset):\n",
    "    \"\"\"Stores the data for the problem.\"\"\"\n",
    "    cities = dataset.x\n",
    "    dist =  np.zeros((dataset.N, dataset.N))\n",
    "    radius = np.inf\n",
    "    center = None\n",
    "    min_dist = np.inf\n",
    "    min_i = None\n",
    "    min_j = None\n",
    "    max_dist = 0\n",
    "    max_i = None\n",
    "    max_j = None\n",
    "    for i in range(dataset.N):\n",
    "      r = np.linalg.norm(cities[i] - [0.5, 0.5])  # or most populous\n",
    "      if r < radius:\n",
    "        radius = r\n",
    "        center = i\n",
    "      for j in range(dataset.N):\n",
    "        dist[i, j] = np.linalg.norm(cities[i] - cities[j])\n",
    "        if dist[i, j] < min_dist and dist[i, j] != 0:\n",
    "          min_dist = dist[i, j]\n",
    "          min_i = i\n",
    "          min_j = j\n",
    "        if dist[i, j] > max_dist:\n",
    "          max_dist = dist[i, j]\n",
    "          max_i = i\n",
    "          max_j = j\n",
    "    print(cities[center])\n",
    "\n",
    "    data = {}\n",
    "    data['distance_matrix'] = np.round(dist / min_dist)\n",
    "    data['num_vehicles'] = 1\n",
    "    data['depot'] = center\n",
    "    data['min_dist'] = min_dist\n",
    "    data['min_i'] = min_i\n",
    "    data['min_j'] = min_j\n",
    "    data['max_dist'] = max_dist\n",
    "    data['max_i'] = max_i\n",
    "    data['max_j'] = max_j\n",
    "    return data\n",
    "\n",
    "def distance_callback(from_index, to_index):\n",
    "    \"\"\"Returns the distance between the two nodes.\"\"\"\n",
    "    # Convert from routing variable Index to distance matrix NodeIndex.\n",
    "    from_node = manager.IndexToNode(from_index)\n",
    "    to_node = manager.IndexToNode(to_index)\n",
    "    return data['distance_matrix'][from_node][to_node]\n",
    "\n",
    "def get_routes(solution, routing, manager):\n",
    "  \"\"\"Get vehicle routes from a solution and store them in an array.\"\"\"\n",
    "  # Get vehicle routes and store them in a two dimensional array whose\n",
    "  # i,j entry is the jth location visited by vehicle i along its route.\n",
    "  routes = []\n",
    "  for route_nbr in range(routing.vehicles()):\n",
    "    index = routing.Start(route_nbr)\n",
    "    route = [manager.IndexToNode(index)]\n",
    "    while not routing.IsEnd(index):\n",
    "      index = solution.Value(routing.NextVar(index))\n",
    "      route.append(manager.IndexToNode(index))\n",
    "    routes.append(route)\n",
    "  return routes\n",
    "\n",
    "def print_solution(manager, routing, solution):\n",
    "    \"\"\"Prints solution on console.\"\"\"\n",
    "    print('Objective: {}'.format(solution.ObjectiveValue() * data['min_dist']))\n",
    "    index = routing.Start(0)\n",
    "    plan_output = 'Route for vehicle 0:\\n'\n",
    "    route_distance = 0\n",
    "    while not routing.IsEnd(index):\n",
    "        plan_output += ' {} ->'.format(manager.IndexToNode(index))\n",
    "        previous_index = index\n",
    "        index = solution.Value(routing.NextVar(index))\n",
    "        route_distance += routing.GetArcCostForVehicle(previous_index, index, 0)\n",
    "    plan_output += ' {}\\n'.format(manager.IndexToNode(index))\n",
    "    print(plan_output)\n",
    "    plan_output += 'Route distance: {}miles\\n'.format(route_distance)\n",
    "\n",
    "# Instantiate the data problem.\n",
    "data = create_data_model(dataset)\n",
    "\n",
    "# Create the routing index manager.\n",
    "manager = pywrapcp.RoutingIndexManager(len(data['distance_matrix']), data['num_vehicles'], [data['min_i']], [data['min_j']])\n",
    "\n",
    "# Create Routing Model.\n",
    "routing = pywrapcp.RoutingModel(manager)\n",
    "\n",
    "transit_callback_index = routing.RegisterTransitCallback(distance_callback)\n",
    "\n",
    "# Define cost of each arc.\n",
    "routing.SetArcCostEvaluatorOfAllVehicles(transit_callback_index)\n",
    "\n",
    "# Setting first solution heuristic.\n",
    "search_parameters = pywrapcp.DefaultRoutingSearchParameters()\n",
    "search_parameters.first_solution_strategy = routing_enums_pb2.FirstSolutionStrategy.PATH_CHEAPEST_ARC\n",
    "\n",
    "# Solve the problem.\n",
    "solution = routing.SolveWithParameters(search_parameters)\n",
    "\n",
    "SA = Sim_an3(lambda_, dataset, order = get_routes(solution, routing, manager)[0])\n",
    "# print(SA.S.get_objective())\n",
    "# SA.cool_down(iterations)\n",
    "# print(SA.S.get_objective())\n",
    "SA.heat_cool_cycles(iterations,cycles)\n",
    "plt.plot(range(iterations*cycles+1), SA.objectives)\n",
    "plt.show()\n",
    "SA.plot_betas()"
   ],
   "metadata": {
    "collapsed": false,
    "pycharm": {
     "name": "#%%\n"
    }
   }
  },
  {
   "cell_type": "code",
   "execution_count": null,
   "metadata": {
    "collapsed": false,
    "jupyter": {
     "outputs_hidden": false
    },
    "pycharm": {
     "name": "#%%\n"
    }
   },
   "outputs": [],
   "source": [
    "# iterations = 2000\n",
    "# cycles = 10\n",
    "SA = Sim_an2(lambda_, dataset)\n",
    "# print(SA.S.get_objective())\n",
    "# SA.cool_down(iterations)\n",
    "# print(SA.S.get_objective())\n",
    "SA.heat_cool_cycles(iterations,cycles)\n",
    "plt.plot(range(iterations*cycles+1), SA.objectives)\n",
    "plt.show()\n",
    "SA.plot_betas()"
   ]
  },
  {
   "cell_type": "code",
   "execution_count": null,
   "outputs": [],
   "source": [
    "# SA = Sim_an1(0, g1,0.1)\n",
    "# print(SA.S.get_objective())\n",
    "# SA.cool_down(1000)\n",
    "# print(SA.S.get_objective())\n",
    "# plt.plot(range(1001), SA.objectives)\n",
    "# plt.show()\n"
   ],
   "metadata": {
    "collapsed": false,
    "pycharm": {
     "name": "#%%\n"
    }
   }
  },
  {
   "cell_type": "code",
   "execution_count": null,
   "outputs": [],
   "source": [
    "runs = 10\n",
    "lmbds = 3\n",
    "lambdas = np.linspace(0, 1, lmbds)\n",
    "results = pd.DataFrame(['run', '$\\lambda$', 'version', 'objective', 'cardinality'])\n",
    "for i in range(runs):\n",
    "    dataset = g1.refresh()\n",
    "    for j, lmbd in enumerate(lambdas):\n",
    "        # -------------------------------------------------- Sim_an1 --------------------------------------------------\n",
    "        SA = Sim_an1(lmbd, dataset)\n",
    "        SA.heat_cool_cycles(iterations, cycles)\n",
    "        results.append({'run': i, '$\\lambda$': j, 'version': 1, 'objective': SA.S.get_objective(), 'cardinality': SA.S.assignments.sum()}, ignore_index = True)\n",
    "\n",
    "        # -------------------------------------------------- Sim_an2 --------------------------------------------------\n",
    "        SA = Sim_an2(lmbd, dataset)\n",
    "        SA.heat_cool_cycles(iterations, cycles)\n",
    "        results.append({'run': i, '$\\lambda$': j, 'version': 2, 'objective': SA.S.get_objective(), 'cardinality': SA.S.assignments.sum()}, ignore_index = True)\n",
    "\n",
    "        # -------------------------------------------------- Sim_an3 --------------------------------------------------\n",
    "        # Instantiate the data problem.\n",
    "        data = create_data_model(dataset)\n",
    "\n",
    "        # Create the routing index manager.\n",
    "        manager = pywrapcp.RoutingIndexManager(len(data['distance_matrix']), data['num_vehicles'], [data['min_i']], [data['min_j']])\n",
    "\n",
    "        # Create Routing Model.\n",
    "        routing = pywrapcp.RoutingModel(manager)\n",
    "\n",
    "        transit_callback_index = routing.RegisterTransitCallback(distance_callback)\n",
    "\n",
    "        # Define cost of each arc.\n",
    "        routing.SetArcCostEvaluatorOfAllVehicles(transit_callback_index)\n",
    "\n",
    "        # Setting first solution heuristic.\n",
    "        search_parameters = pywrapcp.DefaultRoutingSearchParameters()\n",
    "        search_parameters.first_solution_strategy = routing_enums_pb2.FirstSolutionStrategy.PATH_CHEAPEST_ARC\n",
    "\n",
    "        # Solve the problem.\n",
    "        solution = routing.SolveWithParameters(search_parameters)\n",
    "\n",
    "        SA = Sim_an3(lmbd, dataset, order = get_routes(solution, routing, manager)[0])\n",
    "        SA.heat_cool_cycles(iterations, cycles)\n",
    "        results.append({'run': i, '$\\lambda$': j, 'version': 3, 'objective': SA.S.get_objective(), 'cardinality': SA.S.assignments.sum()}, ignore_index = True)\n",
    "\n",
    "sns.lineplot(data = results, x = '$\\lambda$', y = 'objective', hue = 'version')\n",
    "plt.show()\n",
    "sns.lineplot(data = results, x = '$\\lambda$', y = 'cardinality', hue = 'version')\n",
    "plt.show()\n"
   ],
   "metadata": {
    "collapsed": false,
    "pycharm": {
     "name": "#%%\n"
    }
   }
  },
  {
   "cell_type": "code",
   "execution_count": null,
   "metadata": {},
   "outputs": [],
   "source": [
    "lambdas = np.linspace(0, 2, lmbds)\n",
    "results = pd.DataFrame(['run', '$\\lambda$', 'version', 'objective', 'cardinality'])\n",
    "for i in range(runs):\n",
    "    dataset = g2.refresh()\n",
    "    for j, lmbd in enumerate(lambdas):\n",
    "        # -------------------------------------------------- Sim_an1 --------------------------------------------------\n",
    "        SA = Sim_an1(lmbd, dataset)\n",
    "        SA.heat_cool_cycles(iterations, cycles)\n",
    "        results.append({'run': i, '$\\lambda$': j, 'version': 1, 'objective': SA.S.get_objective(), 'cardinality': SA.S.assignments.sum()}, ignore_index = True)\n",
    "\n",
    "        # -------------------------------------------------- Sim_an2 --------------------------------------------------\n",
    "        SA = Sim_an2(lmbd, dataset)\n",
    "        SA.heat_cool_cycles(iterations, cycles)\n",
    "        results.append({'run': i, '$\\lambda$': j, 'version': 2, 'objective': SA.S.get_objective(), 'cardinality': SA.S.assignments.sum()}, ignore_index = True)\n",
    "\n",
    "        # -------------------------------------------------- Sim_an3 --------------------------------------------------\n",
    "        # Instantiate the data problem.\n",
    "        data = create_data_model(dataset)\n",
    "\n",
    "        # Create the routing index manager.\n",
    "        manager = pywrapcp.RoutingIndexManager(len(data['distance_matrix']), data['num_vehicles'], [data['min_i']], [data['min_j']])\n",
    "\n",
    "        # Create Routing Model.\n",
    "        routing = pywrapcp.RoutingModel(manager)\n",
    "\n",
    "        transit_callback_index = routing.RegisterTransitCallback(distance_callback)\n",
    "\n",
    "        # Define cost of each arc.\n",
    "        routing.SetArcCostEvaluatorOfAllVehicles(transit_callback_index)\n",
    "\n",
    "        # Setting first solution heuristic.\n",
    "        search_parameters = pywrapcp.DefaultRoutingSearchParameters()\n",
    "        search_parameters.first_solution_strategy = routing_enums_pb2.FirstSolutionStrategy.PATH_CHEAPEST_ARC\n",
    "\n",
    "        # Solve the problem.\n",
    "        solution = routing.SolveWithParameters(search_parameters)\n",
    "\n",
    "        SA = Sim_an3(lmbd, dataset, order = get_routes(solution, routing, manager)[0])\n",
    "        SA.heat_cool_cycles(iterations, cycles)\n",
    "        results.append({'run': i, '$\\lambda$': j, 'version': 3, 'objective': SA.S.get_objective(), 'cardinality': SA.S.assignments.sum()}, ignore_index = True)\n",
    "\n",
    "sns.lineplot(data = results, x = '$\\lambda$', y = 'objective', hue = 'version')\n",
    "plt.show()\n",
    "sns.lineplot(data = results, x = '$\\lambda$', y = 'cardinality', hue = 'version')\n",
    "plt.show()"
   ]
  },
  {
   "cell_type": "code",
   "execution_count": null,
   "metadata": {
    "pycharm": {
     "name": "#%%\n"
    }
   },
   "outputs": [],
   "source": []
  }
 ],
 "metadata": {
  "colab": {
   "authorship_tag": "ABX9TyMHjD1LWevMEBRvKxj7qq4T",
   "collapsed_sections": [],
   "include_colab_link": true,
   "name": "model.ipynb",
   "provenance": []
  },
  "kernelspec": {
   "name": "python3",
   "language": "python",
   "display_name": "Python 3"
  },
  "language_info": {
   "codemirror_mode": {
    "name": "ipython",
    "version": 3
   },
   "file_extension": ".py",
   "mimetype": "text/x-python",
   "name": "python",
   "nbconvert_exporter": "python",
   "pygments_lexer": "ipython3",
   "version": "3.8.5-final"
  }
 },
 "nbformat": 4,
 "nbformat_minor": 4
}